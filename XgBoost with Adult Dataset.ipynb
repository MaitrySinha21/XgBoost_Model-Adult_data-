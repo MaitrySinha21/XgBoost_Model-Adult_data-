{
 "cells": [
  {
   "cell_type": "markdown",
   "metadata": {},
   "source": [
    "## Importing Libraries"
   ]
  },
  {
   "cell_type": "code",
   "execution_count": 2,
   "metadata": {},
   "outputs": [],
   "source": [
    "import numpy as np\n",
    "import pandas as pd\n",
    "import seaborn as sns\n",
    "import matplotlib.pyplot as plt\n",
    "from sklearn.preprocessing import StandardScaler\n",
    "from sklearn.model_selection import train_test_split,RandomizedSearchCV,KFold\n",
    "from sklearn import metrics\n",
    "from sklearn.metrics import classification_report, confusion_matrix, accuracy_score,roc_curve, roc_auc_score\n",
    "from xgboost import XGBClassifier\n",
    "import warnings\n",
    "warnings.filterwarnings('ignore')\n",
    "sns.set_style('darkgrid')"
   ]
  },
  {
   "cell_type": "code",
   "execution_count": 162,
   "metadata": {},
   "outputs": [
    {
     "data": {
      "text/html": [
       "<div>\n",
       "<style scoped>\n",
       "    .dataframe tbody tr th:only-of-type {\n",
       "        vertical-align: middle;\n",
       "    }\n",
       "\n",
       "    .dataframe tbody tr th {\n",
       "        vertical-align: top;\n",
       "    }\n",
       "\n",
       "    .dataframe thead th {\n",
       "        text-align: right;\n",
       "    }\n",
       "</style>\n",
       "<table border=\"1\" class=\"dataframe\">\n",
       "  <thead>\n",
       "    <tr style=\"text-align: right;\">\n",
       "      <th></th>\n",
       "      <th>age</th>\n",
       "      <th>workclass</th>\n",
       "      <th>fnlwgt</th>\n",
       "      <th>education</th>\n",
       "      <th>education-num</th>\n",
       "      <th>marital-status</th>\n",
       "      <th>occupation</th>\n",
       "      <th>relationship</th>\n",
       "      <th>race</th>\n",
       "      <th>sex</th>\n",
       "      <th>capitalgain</th>\n",
       "      <th>capitalloss</th>\n",
       "      <th>hoursperweek</th>\n",
       "      <th>native-country</th>\n",
       "      <th>class</th>\n",
       "    </tr>\n",
       "  </thead>\n",
       "  <tbody>\n",
       "    <tr>\n",
       "      <th>0</th>\n",
       "      <td>2</td>\n",
       "      <td>State-gov</td>\n",
       "      <td>77516</td>\n",
       "      <td>Bachelors</td>\n",
       "      <td>13</td>\n",
       "      <td>Never-married</td>\n",
       "      <td>Adm-clerical</td>\n",
       "      <td>Not-in-family</td>\n",
       "      <td>White</td>\n",
       "      <td>Male</td>\n",
       "      <td>1</td>\n",
       "      <td>0</td>\n",
       "      <td>2</td>\n",
       "      <td>United-States</td>\n",
       "      <td>&lt;=50K</td>\n",
       "    </tr>\n",
       "    <tr>\n",
       "      <th>1</th>\n",
       "      <td>3</td>\n",
       "      <td>Self-emp-not-inc</td>\n",
       "      <td>83311</td>\n",
       "      <td>Bachelors</td>\n",
       "      <td>13</td>\n",
       "      <td>Married-civ-spouse</td>\n",
       "      <td>Exec-managerial</td>\n",
       "      <td>Husband</td>\n",
       "      <td>White</td>\n",
       "      <td>Male</td>\n",
       "      <td>0</td>\n",
       "      <td>0</td>\n",
       "      <td>0</td>\n",
       "      <td>United-States</td>\n",
       "      <td>&lt;=50K</td>\n",
       "    </tr>\n",
       "  </tbody>\n",
       "</table>\n",
       "</div>"
      ],
      "text/plain": [
       "   age         workclass  fnlwgt  education  education-num  \\\n",
       "0    2         State-gov   77516  Bachelors             13   \n",
       "1    3  Self-emp-not-inc   83311  Bachelors             13   \n",
       "\n",
       "       marital-status       occupation   relationship   race   sex  \\\n",
       "0       Never-married     Adm-clerical  Not-in-family  White  Male   \n",
       "1  Married-civ-spouse  Exec-managerial        Husband  White  Male   \n",
       "\n",
       "   capitalgain  capitalloss  hoursperweek native-country  class  \n",
       "0            1            0             2  United-States  <=50K  \n",
       "1            0            0             0  United-States  <=50K  "
      ]
     },
     "execution_count": 162,
     "metadata": {},
     "output_type": "execute_result"
    }
   ],
   "source": [
    "train_set = pd.read_csv('adult_train.csv')\n",
    "train_set=pd.DataFrame(train_set)\n",
    "train_set.head(2)"
   ]
  },
  {
   "cell_type": "code",
   "execution_count": 163,
   "metadata": {},
   "outputs": [
    {
     "data": {
      "text/plain": [
       "(48842, 15)"
      ]
     },
     "execution_count": 163,
     "metadata": {},
     "output_type": "execute_result"
    }
   ],
   "source": [
    "train_set.shape"
   ]
  },
  {
   "cell_type": "code",
   "execution_count": 164,
   "metadata": {},
   "outputs": [
    {
     "data": {
      "text/plain": [
       "Index(['age', 'workclass', 'fnlwgt', 'education', 'education-num',\n",
       "       'marital-status', 'occupation', 'relationship', 'race', 'sex',\n",
       "       'capitalgain', 'capitalloss', 'hoursperweek', 'native-country',\n",
       "       'class'],\n",
       "      dtype='object')"
      ]
     },
     "execution_count": 164,
     "metadata": {},
     "output_type": "execute_result"
    }
   ],
   "source": [
    "train_set.columns"
   ]
  },
  {
   "cell_type": "code",
   "execution_count": 165,
   "metadata": {},
   "outputs": [],
   "source": [
    "col_name=[\"age\", \"workclass\", \"fnlwgt\", \"education\", \"education-num\",\n",
    "          \"marital-status\", \"occupation\", \"relationship\", \"race\", \"sex\",\n",
    "          \"capitalgain\", \"capitalloss\", \"hoursperweek\", \"native-country\",\"class\"]"
   ]
  },
  {
   "cell_type": "code",
   "execution_count": 166,
   "metadata": {},
   "outputs": [
    {
     "data": {
      "text/html": [
       "<div>\n",
       "<style scoped>\n",
       "    .dataframe tbody tr th:only-of-type {\n",
       "        vertical-align: middle;\n",
       "    }\n",
       "\n",
       "    .dataframe tbody tr th {\n",
       "        vertical-align: top;\n",
       "    }\n",
       "\n",
       "    .dataframe thead th {\n",
       "        text-align: right;\n",
       "    }\n",
       "</style>\n",
       "<table border=\"1\" class=\"dataframe\">\n",
       "  <thead>\n",
       "    <tr style=\"text-align: right;\">\n",
       "      <th></th>\n",
       "      <th>age</th>\n",
       "      <th>workclass</th>\n",
       "      <th>fnlwgt</th>\n",
       "      <th>education</th>\n",
       "      <th>education-num</th>\n",
       "      <th>marital-status</th>\n",
       "      <th>occupation</th>\n",
       "      <th>relationship</th>\n",
       "      <th>race</th>\n",
       "      <th>sex</th>\n",
       "      <th>capitalgain</th>\n",
       "      <th>capitalloss</th>\n",
       "      <th>hoursperweek</th>\n",
       "      <th>native-country</th>\n",
       "      <th>class</th>\n",
       "    </tr>\n",
       "  </thead>\n",
       "  <tbody>\n",
       "    <tr>\n",
       "      <th>0</th>\n",
       "      <td>|1x3 Cross validator</td>\n",
       "      <td>NaN</td>\n",
       "      <td>NaN</td>\n",
       "      <td>NaN</td>\n",
       "      <td>NaN</td>\n",
       "      <td>NaN</td>\n",
       "      <td>NaN</td>\n",
       "      <td>NaN</td>\n",
       "      <td>NaN</td>\n",
       "      <td>NaN</td>\n",
       "      <td>NaN</td>\n",
       "      <td>NaN</td>\n",
       "      <td>NaN</td>\n",
       "      <td>NaN</td>\n",
       "      <td>NaN</td>\n",
       "    </tr>\n",
       "    <tr>\n",
       "      <th>1</th>\n",
       "      <td>25</td>\n",
       "      <td>Private</td>\n",
       "      <td>226802.0</td>\n",
       "      <td>11th</td>\n",
       "      <td>7.0</td>\n",
       "      <td>Never-married</td>\n",
       "      <td>Machine-op-inspct</td>\n",
       "      <td>Own-child</td>\n",
       "      <td>Black</td>\n",
       "      <td>Male</td>\n",
       "      <td>0.0</td>\n",
       "      <td>0.0</td>\n",
       "      <td>40.0</td>\n",
       "      <td>United-States</td>\n",
       "      <td>&lt;=50K.</td>\n",
       "    </tr>\n",
       "    <tr>\n",
       "      <th>2</th>\n",
       "      <td>38</td>\n",
       "      <td>Private</td>\n",
       "      <td>89814.0</td>\n",
       "      <td>HS-grad</td>\n",
       "      <td>9.0</td>\n",
       "      <td>Married-civ-spouse</td>\n",
       "      <td>Farming-fishing</td>\n",
       "      <td>Husband</td>\n",
       "      <td>White</td>\n",
       "      <td>Male</td>\n",
       "      <td>0.0</td>\n",
       "      <td>0.0</td>\n",
       "      <td>50.0</td>\n",
       "      <td>United-States</td>\n",
       "      <td>&lt;=50K.</td>\n",
       "    </tr>\n",
       "    <tr>\n",
       "      <th>3</th>\n",
       "      <td>28</td>\n",
       "      <td>Local-gov</td>\n",
       "      <td>336951.0</td>\n",
       "      <td>Assoc-acdm</td>\n",
       "      <td>12.0</td>\n",
       "      <td>Married-civ-spouse</td>\n",
       "      <td>Protective-serv</td>\n",
       "      <td>Husband</td>\n",
       "      <td>White</td>\n",
       "      <td>Male</td>\n",
       "      <td>0.0</td>\n",
       "      <td>0.0</td>\n",
       "      <td>40.0</td>\n",
       "      <td>United-States</td>\n",
       "      <td>&gt;50K.</td>\n",
       "    </tr>\n",
       "    <tr>\n",
       "      <th>4</th>\n",
       "      <td>44</td>\n",
       "      <td>Private</td>\n",
       "      <td>160323.0</td>\n",
       "      <td>Some-college</td>\n",
       "      <td>10.0</td>\n",
       "      <td>Married-civ-spouse</td>\n",
       "      <td>Machine-op-inspct</td>\n",
       "      <td>Husband</td>\n",
       "      <td>Black</td>\n",
       "      <td>Male</td>\n",
       "      <td>7688.0</td>\n",
       "      <td>0.0</td>\n",
       "      <td>40.0</td>\n",
       "      <td>United-States</td>\n",
       "      <td>&gt;50K.</td>\n",
       "    </tr>\n",
       "  </tbody>\n",
       "</table>\n",
       "</div>"
      ],
      "text/plain": [
       "                    age   workclass    fnlwgt      education  education-num  \\\n",
       "0  |1x3 Cross validator         NaN       NaN            NaN            NaN   \n",
       "1                    25     Private  226802.0           11th            7.0   \n",
       "2                    38     Private   89814.0        HS-grad            9.0   \n",
       "3                    28   Local-gov  336951.0     Assoc-acdm           12.0   \n",
       "4                    44     Private  160323.0   Some-college           10.0   \n",
       "\n",
       "        marital-status          occupation relationship    race    sex  \\\n",
       "0                  NaN                 NaN          NaN     NaN    NaN   \n",
       "1        Never-married   Machine-op-inspct    Own-child   Black   Male   \n",
       "2   Married-civ-spouse     Farming-fishing      Husband   White   Male   \n",
       "3   Married-civ-spouse     Protective-serv      Husband   White   Male   \n",
       "4   Married-civ-spouse   Machine-op-inspct      Husband   Black   Male   \n",
       "\n",
       "   capitalgain  capitalloss  hoursperweek  native-country    class  \n",
       "0          NaN          NaN           NaN             NaN      NaN  \n",
       "1          0.0          0.0          40.0   United-States   <=50K.  \n",
       "2          0.0          0.0          50.0   United-States   <=50K.  \n",
       "3          0.0          0.0          40.0   United-States    >50K.  \n",
       "4       7688.0          0.0          40.0   United-States    >50K.  "
      ]
     },
     "execution_count": 166,
     "metadata": {},
     "output_type": "execute_result"
    }
   ],
   "source": [
    "test_set = pd.read_csv('adult_test.csv',names=col_name)\n",
    "test_set=pd.DataFrame(test_set,)\n",
    "test_set.head()"
   ]
  },
  {
   "cell_type": "markdown",
   "metadata": {},
   "source": [
    "* Removing NaN values from the first row of the Test Set"
   ]
  },
  {
   "cell_type": "code",
   "execution_count": 167,
   "metadata": {},
   "outputs": [],
   "source": [
    "test_set.drop([0],0,inplace=True)"
   ]
  },
  {
   "cell_type": "code",
   "execution_count": 168,
   "metadata": {},
   "outputs": [
    {
     "data": {
      "text/html": [
       "<div>\n",
       "<style scoped>\n",
       "    .dataframe tbody tr th:only-of-type {\n",
       "        vertical-align: middle;\n",
       "    }\n",
       "\n",
       "    .dataframe tbody tr th {\n",
       "        vertical-align: top;\n",
       "    }\n",
       "\n",
       "    .dataframe thead th {\n",
       "        text-align: right;\n",
       "    }\n",
       "</style>\n",
       "<table border=\"1\" class=\"dataframe\">\n",
       "  <thead>\n",
       "    <tr style=\"text-align: right;\">\n",
       "      <th></th>\n",
       "      <th>age</th>\n",
       "      <th>workclass</th>\n",
       "      <th>fnlwgt</th>\n",
       "      <th>education</th>\n",
       "      <th>education-num</th>\n",
       "      <th>marital-status</th>\n",
       "      <th>occupation</th>\n",
       "      <th>relationship</th>\n",
       "      <th>race</th>\n",
       "      <th>sex</th>\n",
       "      <th>capitalgain</th>\n",
       "      <th>capitalloss</th>\n",
       "      <th>hoursperweek</th>\n",
       "      <th>native-country</th>\n",
       "      <th>class</th>\n",
       "    </tr>\n",
       "  </thead>\n",
       "  <tbody>\n",
       "    <tr>\n",
       "      <th>1</th>\n",
       "      <td>25</td>\n",
       "      <td>Private</td>\n",
       "      <td>226802.0</td>\n",
       "      <td>11th</td>\n",
       "      <td>7.0</td>\n",
       "      <td>Never-married</td>\n",
       "      <td>Machine-op-inspct</td>\n",
       "      <td>Own-child</td>\n",
       "      <td>Black</td>\n",
       "      <td>Male</td>\n",
       "      <td>0.0</td>\n",
       "      <td>0.0</td>\n",
       "      <td>40.0</td>\n",
       "      <td>United-States</td>\n",
       "      <td>&lt;=50K.</td>\n",
       "    </tr>\n",
       "    <tr>\n",
       "      <th>2</th>\n",
       "      <td>38</td>\n",
       "      <td>Private</td>\n",
       "      <td>89814.0</td>\n",
       "      <td>HS-grad</td>\n",
       "      <td>9.0</td>\n",
       "      <td>Married-civ-spouse</td>\n",
       "      <td>Farming-fishing</td>\n",
       "      <td>Husband</td>\n",
       "      <td>White</td>\n",
       "      <td>Male</td>\n",
       "      <td>0.0</td>\n",
       "      <td>0.0</td>\n",
       "      <td>50.0</td>\n",
       "      <td>United-States</td>\n",
       "      <td>&lt;=50K.</td>\n",
       "    </tr>\n",
       "    <tr>\n",
       "      <th>3</th>\n",
       "      <td>28</td>\n",
       "      <td>Local-gov</td>\n",
       "      <td>336951.0</td>\n",
       "      <td>Assoc-acdm</td>\n",
       "      <td>12.0</td>\n",
       "      <td>Married-civ-spouse</td>\n",
       "      <td>Protective-serv</td>\n",
       "      <td>Husband</td>\n",
       "      <td>White</td>\n",
       "      <td>Male</td>\n",
       "      <td>0.0</td>\n",
       "      <td>0.0</td>\n",
       "      <td>40.0</td>\n",
       "      <td>United-States</td>\n",
       "      <td>&gt;50K.</td>\n",
       "    </tr>\n",
       "    <tr>\n",
       "      <th>4</th>\n",
       "      <td>44</td>\n",
       "      <td>Private</td>\n",
       "      <td>160323.0</td>\n",
       "      <td>Some-college</td>\n",
       "      <td>10.0</td>\n",
       "      <td>Married-civ-spouse</td>\n",
       "      <td>Machine-op-inspct</td>\n",
       "      <td>Husband</td>\n",
       "      <td>Black</td>\n",
       "      <td>Male</td>\n",
       "      <td>7688.0</td>\n",
       "      <td>0.0</td>\n",
       "      <td>40.0</td>\n",
       "      <td>United-States</td>\n",
       "      <td>&gt;50K.</td>\n",
       "    </tr>\n",
       "    <tr>\n",
       "      <th>5</th>\n",
       "      <td>18</td>\n",
       "      <td>?</td>\n",
       "      <td>103497.0</td>\n",
       "      <td>Some-college</td>\n",
       "      <td>10.0</td>\n",
       "      <td>Never-married</td>\n",
       "      <td>?</td>\n",
       "      <td>Own-child</td>\n",
       "      <td>White</td>\n",
       "      <td>Female</td>\n",
       "      <td>0.0</td>\n",
       "      <td>0.0</td>\n",
       "      <td>30.0</td>\n",
       "      <td>United-States</td>\n",
       "      <td>&lt;=50K.</td>\n",
       "    </tr>\n",
       "  </tbody>\n",
       "</table>\n",
       "</div>"
      ],
      "text/plain": [
       "  age   workclass    fnlwgt      education  education-num  \\\n",
       "1  25     Private  226802.0           11th            7.0   \n",
       "2  38     Private   89814.0        HS-grad            9.0   \n",
       "3  28   Local-gov  336951.0     Assoc-acdm           12.0   \n",
       "4  44     Private  160323.0   Some-college           10.0   \n",
       "5  18           ?  103497.0   Some-college           10.0   \n",
       "\n",
       "        marital-status          occupation relationship    race      sex  \\\n",
       "1        Never-married   Machine-op-inspct    Own-child   Black     Male   \n",
       "2   Married-civ-spouse     Farming-fishing      Husband   White     Male   \n",
       "3   Married-civ-spouse     Protective-serv      Husband   White     Male   \n",
       "4   Married-civ-spouse   Machine-op-inspct      Husband   Black     Male   \n",
       "5        Never-married                   ?    Own-child   White   Female   \n",
       "\n",
       "   capitalgain  capitalloss  hoursperweek  native-country    class  \n",
       "1          0.0          0.0          40.0   United-States   <=50K.  \n",
       "2          0.0          0.0          50.0   United-States   <=50K.  \n",
       "3          0.0          0.0          40.0   United-States    >50K.  \n",
       "4       7688.0          0.0          40.0   United-States    >50K.  \n",
       "5          0.0          0.0          30.0   United-States   <=50K.  "
      ]
     },
     "execution_count": 168,
     "metadata": {},
     "output_type": "execute_result"
    }
   ],
   "source": [
    "test_set.head()"
   ]
  },
  {
   "cell_type": "markdown",
   "metadata": {},
   "source": [
    "## EDA"
   ]
  },
  {
   "cell_type": "code",
   "execution_count": 208,
   "metadata": {},
   "outputs": [
    {
     "data": {
      "image/png": "[encoded data removed]",
      "text/plain": [
       "<Figure size 864x720 with 6 Axes>"
      ]
     },
     "metadata": {},
     "output_type": "display_data"
    }
   ],
   "source": [
    "plt.rcParams['font.size'] = 12\n",
    "train_sel = train_set.select_dtypes(include=['int64', 'float64']).columns\n",
    "subset = train_set[train_sel]\n",
    "subset.hist(figsize=(12,10),color='green')\n",
    "plt.show()"
   ]
  },
  {
   "cell_type": "code",
   "execution_count": 169,
   "metadata": {},
   "outputs": [
    {
     "data": {
      "text/plain": [
       "Index(['workclass', 'education', 'marital-status', 'occupation',\n",
       "       'relationship', 'race', 'sex', 'native-country', 'class'],\n",
       "      dtype='object')"
      ]
     },
     "execution_count": 169,
     "metadata": {},
     "output_type": "execute_result"
    }
   ],
   "source": [
    "train_cat = train_set.select_dtypes(include=['object'])\n",
    "train_cat.columns"
   ]
  },
  {
   "cell_type": "code",
   "execution_count": 209,
   "metadata": {},
   "outputs": [
    {
     "data": {
      "image/png": "[encoded data removed]",
      "text/plain": [
       "<Figure size 432x288 with 1 Axes>"
      ]
     },
     "metadata": {},
     "output_type": "display_data"
    }
   ],
   "source": [
    "sns.countplot(y='workclass', hue='class', data = train_cat)\n",
    "plt.show()"
   ]
  },
  {
   "cell_type": "code",
   "execution_count": 171,
   "metadata": {},
   "outputs": [
    {
     "data": {
      "text/plain": [
       "(48842, 16281)"
      ]
     },
     "execution_count": 171,
     "metadata": {},
     "output_type": "execute_result"
    }
   ],
   "source": [
    "len(train_set),len(test_set)"
   ]
  },
  {
   "cell_type": "code",
   "execution_count": 172,
   "metadata": {},
   "outputs": [],
   "source": [
    "data = pd.concat([train_set,test_set],0).copy()"
   ]
  },
  {
   "cell_type": "code",
   "execution_count": 173,
   "metadata": {},
   "outputs": [
    {
     "data": {
      "text/html": [
       "<div>\n",
       "<style scoped>\n",
       "    .dataframe tbody tr th:only-of-type {\n",
       "        vertical-align: middle;\n",
       "    }\n",
       "\n",
       "    .dataframe tbody tr th {\n",
       "        vertical-align: top;\n",
       "    }\n",
       "\n",
       "    .dataframe thead th {\n",
       "        text-align: right;\n",
       "    }\n",
       "</style>\n",
       "<table border=\"1\" class=\"dataframe\">\n",
       "  <thead>\n",
       "    <tr style=\"text-align: right;\">\n",
       "      <th></th>\n",
       "      <th>fnlwgt</th>\n",
       "      <th>education-num</th>\n",
       "      <th>capitalgain</th>\n",
       "      <th>capitalloss</th>\n",
       "      <th>hoursperweek</th>\n",
       "    </tr>\n",
       "  </thead>\n",
       "  <tbody>\n",
       "    <tr>\n",
       "      <th>count</th>\n",
       "      <td>6.512300e+04</td>\n",
       "      <td>65123.000000</td>\n",
       "      <td>65123.000000</td>\n",
       "      <td>65123.000000</td>\n",
       "      <td>65123.000000</td>\n",
       "    </tr>\n",
       "    <tr>\n",
       "      <th>mean</th>\n",
       "      <td>1.896070e+05</td>\n",
       "      <td>10.076793</td>\n",
       "      <td>270.630668</td>\n",
       "      <td>22.061361</td>\n",
       "      <td>11.561230</td>\n",
       "    </tr>\n",
       "    <tr>\n",
       "      <th>std</th>\n",
       "      <td>1.056310e+05</td>\n",
       "      <td>2.570098</td>\n",
       "      <td>3820.729852</td>\n",
       "      <td>205.103343</td>\n",
       "      <td>17.793856</td>\n",
       "    </tr>\n",
       "    <tr>\n",
       "      <th>min</th>\n",
       "      <td>1.228500e+04</td>\n",
       "      <td>1.000000</td>\n",
       "      <td>0.000000</td>\n",
       "      <td>0.000000</td>\n",
       "      <td>0.000000</td>\n",
       "    </tr>\n",
       "    <tr>\n",
       "      <th>25%</th>\n",
       "      <td>1.173660e+05</td>\n",
       "      <td>9.000000</td>\n",
       "      <td>0.000000</td>\n",
       "      <td>0.000000</td>\n",
       "      <td>2.000000</td>\n",
       "    </tr>\n",
       "    <tr>\n",
       "      <th>50%</th>\n",
       "      <td>1.780330e+05</td>\n",
       "      <td>10.000000</td>\n",
       "      <td>0.000000</td>\n",
       "      <td>0.000000</td>\n",
       "      <td>2.000000</td>\n",
       "    </tr>\n",
       "    <tr>\n",
       "      <th>75%</th>\n",
       "      <td>2.378650e+05</td>\n",
       "      <td>12.000000</td>\n",
       "      <td>0.000000</td>\n",
       "      <td>0.000000</td>\n",
       "      <td>4.000000</td>\n",
       "    </tr>\n",
       "    <tr>\n",
       "      <th>max</th>\n",
       "      <td>1.490400e+06</td>\n",
       "      <td>16.000000</td>\n",
       "      <td>99999.000000</td>\n",
       "      <td>3770.000000</td>\n",
       "      <td>99.000000</td>\n",
       "    </tr>\n",
       "  </tbody>\n",
       "</table>\n",
       "</div>"
      ],
      "text/plain": [
       "             fnlwgt  education-num   capitalgain   capitalloss  hoursperweek\n",
       "count  6.512300e+04   65123.000000  65123.000000  65123.000000  65123.000000\n",
       "mean   1.896070e+05      10.076793    270.630668     22.061361     11.561230\n",
       "std    1.056310e+05       2.570098   3820.729852    205.103343     17.793856\n",
       "min    1.228500e+04       1.000000      0.000000      0.000000      0.000000\n",
       "25%    1.173660e+05       9.000000      0.000000      0.000000      2.000000\n",
       "50%    1.780330e+05      10.000000      0.000000      0.000000      2.000000\n",
       "75%    2.378650e+05      12.000000      0.000000      0.000000      4.000000\n",
       "max    1.490400e+06      16.000000  99999.000000   3770.000000     99.000000"
      ]
     },
     "execution_count": 173,
     "metadata": {},
     "output_type": "execute_result"
    }
   ],
   "source": [
    "data.describe()"
   ]
  },
  {
   "cell_type": "code",
   "execution_count": 174,
   "metadata": {},
   "outputs": [],
   "source": [
    "dict_class={'<=50K':0,' <=50K.':0,'>50K':1,' >50K.':1}"
   ]
  },
  {
   "cell_type": "code",
   "execution_count": 175,
   "metadata": {},
   "outputs": [
    {
     "data": {
      "text/html": [
       "<div>\n",
       "<style scoped>\n",
       "    .dataframe tbody tr th:only-of-type {\n",
       "        vertical-align: middle;\n",
       "    }\n",
       "\n",
       "    .dataframe tbody tr th {\n",
       "        vertical-align: top;\n",
       "    }\n",
       "\n",
       "    .dataframe thead th {\n",
       "        text-align: right;\n",
       "    }\n",
       "</style>\n",
       "<table border=\"1\" class=\"dataframe\">\n",
       "  <thead>\n",
       "    <tr style=\"text-align: right;\">\n",
       "      <th></th>\n",
       "      <th>age</th>\n",
       "      <th>workclass</th>\n",
       "      <th>fnlwgt</th>\n",
       "      <th>education</th>\n",
       "      <th>education-num</th>\n",
       "      <th>marital-status</th>\n",
       "      <th>occupation</th>\n",
       "      <th>relationship</th>\n",
       "      <th>race</th>\n",
       "      <th>sex</th>\n",
       "      <th>capitalgain</th>\n",
       "      <th>capitalloss</th>\n",
       "      <th>hoursperweek</th>\n",
       "      <th>native-country</th>\n",
       "      <th>class</th>\n",
       "    </tr>\n",
       "  </thead>\n",
       "  <tbody>\n",
       "    <tr>\n",
       "      <th>0</th>\n",
       "      <td>2</td>\n",
       "      <td>State-gov</td>\n",
       "      <td>77516.0</td>\n",
       "      <td>Bachelors</td>\n",
       "      <td>13.0</td>\n",
       "      <td>Never-married</td>\n",
       "      <td>Adm-clerical</td>\n",
       "      <td>Not-in-family</td>\n",
       "      <td>White</td>\n",
       "      <td>Male</td>\n",
       "      <td>1.0</td>\n",
       "      <td>0.0</td>\n",
       "      <td>2.0</td>\n",
       "      <td>United-States</td>\n",
       "      <td>0</td>\n",
       "    </tr>\n",
       "    <tr>\n",
       "      <th>1</th>\n",
       "      <td>3</td>\n",
       "      <td>Self-emp-not-inc</td>\n",
       "      <td>83311.0</td>\n",
       "      <td>Bachelors</td>\n",
       "      <td>13.0</td>\n",
       "      <td>Married-civ-spouse</td>\n",
       "      <td>Exec-managerial</td>\n",
       "      <td>Husband</td>\n",
       "      <td>White</td>\n",
       "      <td>Male</td>\n",
       "      <td>0.0</td>\n",
       "      <td>0.0</td>\n",
       "      <td>0.0</td>\n",
       "      <td>United-States</td>\n",
       "      <td>0</td>\n",
       "    </tr>\n",
       "  </tbody>\n",
       "</table>\n",
       "</div>"
      ],
      "text/plain": [
       "  age         workclass   fnlwgt  education  education-num  \\\n",
       "0   2         State-gov  77516.0  Bachelors           13.0   \n",
       "1   3  Self-emp-not-inc  83311.0  Bachelors           13.0   \n",
       "\n",
       "       marital-status       occupation   relationship   race   sex  \\\n",
       "0       Never-married     Adm-clerical  Not-in-family  White  Male   \n",
       "1  Married-civ-spouse  Exec-managerial        Husband  White  Male   \n",
       "\n",
       "   capitalgain  capitalloss  hoursperweek native-country  class  \n",
       "0          1.0          0.0           2.0  United-States      0  \n",
       "1          0.0          0.0           0.0  United-States      0  "
      ]
     },
     "execution_count": 175,
     "metadata": {},
     "output_type": "execute_result"
    }
   ],
   "source": [
    "data['class']=data['class'].map(dict_class)\n",
    "data.head(2)"
   ]
  },
  {
   "cell_type": "code",
   "execution_count": 176,
   "metadata": {},
   "outputs": [],
   "source": [
    "categorical_cols = ['workclass', 'marital-status', 'relationship', 'sex','race',\n",
    "                    'native-country','education','occupation'] "
   ]
  },
  {
   "cell_type": "markdown",
   "metadata": {},
   "source": [
    "* As here the names of columns for Train & Test are different so,using mapping to make them similar"
   ]
  },
  {
   "cell_type": "code",
   "execution_count": 177,
   "metadata": {},
   "outputs": [],
   "source": [
    "dict = {' Private':'Private','Private':'Private',' Local-gov':'Local-gov','Local-gov':'Local-gov',\n",
    "        ' State-gov':'State-gov','State-gov':'State-gov',' Self-emp-inc':'Self-emp-inc','Self-emp-inc':'Self-emp-inc',\n",
    "        ' Without-pay':'Without-pay','Without-pay':'Without-pay',' Never-worked':'Never-worked',\n",
    "        ' Self-emp-not-inc':'Self-emp-not-inc','Self-emp-not-inc':'Self-emp-not-inc',\n",
    "        ' Federal-gov':'Federal-gov','Federal-gov':'Federal-gov', ' ?':'?'}"
   ]
  },
  {
   "cell_type": "code",
   "execution_count": 178,
   "metadata": {},
   "outputs": [],
   "source": [
    "data['workclass']=data['workclass'].map(dict)"
   ]
  },
  {
   "cell_type": "code",
   "execution_count": 179,
   "metadata": {},
   "outputs": [
    {
     "data": {
      "text/plain": [
       "array(['Never-married', 'Married-civ-spouse', 'Divorced',\n",
       "       'Married-spouse-absent', 'Separated', 'Married-AF-spouse',\n",
       "       'Widowed', ' Never-married', ' Married-civ-spouse', ' Widowed',\n",
       "       ' Divorced', ' Separated', ' Married-spouse-absent',\n",
       "       ' Married-AF-spouse'], dtype=object)"
      ]
     },
     "execution_count": 179,
     "metadata": {},
     "output_type": "execute_result"
    }
   ],
   "source": [
    "data['marital-status'].unique()"
   ]
  },
  {
   "cell_type": "code",
   "execution_count": 180,
   "metadata": {},
   "outputs": [],
   "source": [
    "dict1 = {'Never-married':'Never-married',' Never-married':'Never-married','Married-civ-spouse':'Married-civ-spouse',\n",
    "       ' Married-civ-spouse':'Married-civ-spouse','Divorced':'Divorced',' Divorced':'Divorced',\n",
    "        'Married-spouse-absent':'Married-spouse-absent',' Married-spouse-absent':'Married-spouse-absent',\n",
    "        'Separated':'Separated',' Separated':'Separated','Married-AF-spouse':'Married-AF-spouse',\n",
    "        ' Married-AF-spouse':'Married-AF-spouse','Widowed':'Widowed',' Widowed':'Widowed'}"
   ]
  },
  {
   "cell_type": "code",
   "execution_count": 181,
   "metadata": {},
   "outputs": [],
   "source": [
    "data['marital-status']=data['marital-status'].map(dict1)"
   ]
  },
  {
   "cell_type": "code",
   "execution_count": 182,
   "metadata": {},
   "outputs": [],
   "source": [
    "dict2={'Not-in-family':'Not-in-family',' Not-in-family':'Not-in-family','Husband':'Husband',' Husband':'Husband',\n",
    "      'Wife':'Wife',' Wife':'Wife','Own-child':'Own-child',' Own-child':'Own-child','Unmarried':'Unmarried',\n",
    "      ' Unmarried':'Unmarried','Other-relative':'Other-relative',' Other-relative':'Other-relative'}"
   ]
  },
  {
   "cell_type": "code",
   "execution_count": 183,
   "metadata": {},
   "outputs": [],
   "source": [
    "data['relationship']=data['relationship'].map(dict2)"
   ]
  },
  {
   "cell_type": "code",
   "execution_count": 184,
   "metadata": {},
   "outputs": [
    {
     "data": {
      "text/plain": [
       "array(['Male', 'Female', ' Male', ' Female'], dtype=object)"
      ]
     },
     "execution_count": 184,
     "metadata": {},
     "output_type": "execute_result"
    }
   ],
   "source": [
    "data['sex'].unique()"
   ]
  },
  {
   "cell_type": "code",
   "execution_count": 185,
   "metadata": {},
   "outputs": [],
   "source": [
    "dict3={'Male':'Male',' Male':'Male','Female':'Female',' Female':'Female'}\n",
    "data['sex']=data['sex'].map(dict3)"
   ]
  },
  {
   "cell_type": "code",
   "execution_count": 186,
   "metadata": {},
   "outputs": [
    {
     "data": {
      "text/plain": [
       "array(['White', 'Black', 'Asian-Pac-Islander', 'Amer-Indian-Eskimo',\n",
       "       'Other', ' Black', ' White', ' Asian-Pac-Islander', ' Other',\n",
       "       ' Amer-Indian-Eskimo'], dtype=object)"
      ]
     },
     "execution_count": 186,
     "metadata": {},
     "output_type": "execute_result"
    }
   ],
   "source": [
    "data['race'].unique()"
   ]
  },
  {
   "cell_type": "code",
   "execution_count": 187,
   "metadata": {},
   "outputs": [],
   "source": [
    "dict4={'White':'White',' White':'White','Black':'Black',' Black':'Black','Asian-Pac-Islander':'Asian-Pac-Islander',\n",
    "      ' Asian-Pac-Islander':'Asian-Pac-Islander','Amer-Indian-Eskimo':'Amer-Indian-Eskimo',\n",
    "      ' Amer-Indian-Eskimo':'Amer-Indian-Eskimo',' Other':'Other','Other':'Other'}"
   ]
  },
  {
   "cell_type": "code",
   "execution_count": 188,
   "metadata": {},
   "outputs": [],
   "source": [
    "data['race']=data['race'].map(dict4)"
   ]
  },
  {
   "cell_type": "code",
   "execution_count": 189,
   "metadata": {
    "scrolled": true
   },
   "outputs": [
    {
     "data": {
      "text/plain": [
       "array(['United-States', 'Cuba', 'Jamaica', 'India', nan, 'Mexico',\n",
       "       'South', 'Puerto-Rico', 'Honduras', 'England', 'Canada', 'Germany',\n",
       "       'Iran', 'Philippines', 'Italy', 'Poland', 'Columbia', 'Cambodia',\n",
       "       'Thailand', 'Ecuador', 'Laos', 'Taiwan', 'Haiti', 'Portugal',\n",
       "       'Dominican-Republic', 'El-Salvador', 'France', 'Guatemala',\n",
       "       'China', 'Japan', 'Yugoslavia', 'Peru',\n",
       "       'Outlying-US(Guam-USVI-etc)', 'Scotland', 'Trinadad&Tobago',\n",
       "       'Greece', 'Nicaragua', 'Vietnam', 'Hong', 'Ireland', 'Hungary',\n",
       "       'Holand-Netherlands', ' United-States', ' ?', ' Peru',\n",
       "       ' Guatemala', ' Mexico', ' Dominican-Republic', ' Ireland',\n",
       "       ' Germany', ' Philippines', ' Thailand', ' Haiti', ' El-Salvador',\n",
       "       ' Puerto-Rico', ' Vietnam', ' South', ' Columbia', ' Japan',\n",
       "       ' India', ' Cambodia', ' Poland', ' Laos', ' England', ' Cuba',\n",
       "       ' Taiwan', ' Italy', ' Canada', ' Portugal', ' China',\n",
       "       ' Nicaragua', ' Honduras', ' Iran', ' Scotland', ' Jamaica',\n",
       "       ' Ecuador', ' Yugoslavia', ' Hungary', ' Hong', ' Greece',\n",
       "       ' Trinadad&Tobago', ' Outlying-US(Guam-USVI-etc)', ' France'],\n",
       "      dtype=object)"
      ]
     },
     "execution_count": 189,
     "metadata": {},
     "output_type": "execute_result"
    }
   ],
   "source": [
    "data['native-country'].unique()"
   ]
  },
  {
   "cell_type": "code",
   "execution_count": 190,
   "metadata": {},
   "outputs": [],
   "source": [
    "dict5={'United-States':'United-States',' United-States':'United-States','Cuba':'Cuba',' Cuba':'Cuba','Jamaica':'Jamaica',\n",
    "      ' Jamaica':'Jamaica','India':'India',' India':'India','Mexico':'Mexico',' Mexico':'Mexico',\n",
    "      'Puerto-Rico':'Puerto-Rico',' Puerto-Rico':'Puerto-Rico','Honduras':'Honduras',' Honduras':'Honduras',\n",
    "      'England':'England',' England':'England','Canada':'Canada',' Canada':'Canada','Germany':'Germany',\n",
    "      ' Germany':'Germany','Iran':'Iran',' Iran':'Iran','Philippines':'Philippines',' Philippines':'Philippines',\n",
    "      'Poland':'Poland',' Poland':'Poland','Columbia':'Columbia',' Columbia':'Columbia','Thailand':'Thailand',\n",
    "      ' Thailand':'Thailand','Ecuador':'Ecuador',' Ecuador':'Ecuador','Laos':'Laos',' Laos':'Laos',\n",
    "      'Taiwan':'Taiwan',' Taiwan':'Taiwan','Haiti':'Haiti',' Haiti':'Haiti','Portugal':'Portugal',\n",
    "      ' Portugal':'Portugal','Dominican-Republic':'Dominican-Republic',' Dominican-Republic':'Dominican-Republic',\n",
    "      'El-Salvador':'El-Salvador',' El-Salvador':'El-Salvador','France':'France',' France':'France',\n",
    "      'Guatemala':'Guatemala',' Guatemala':'Guatemala','Italy':'Italy',' Italy':'Italy','China':'China',\n",
    "       ' China':'China','South':'South',' South':'South',' Japan':'Japan','Japan':'Japan','Cambodia':'Cambodia',\n",
    "      ' Cambodia':'Cambodia','Greece':'Greece',' Greece':'Greece','Nicaragua':'Nicaragua',' Nicaragua':'Nicaragua',\n",
    "      'Trinadad&Tobago':'Trinadad&Tobago',' Trinadad&Tobago':'Trinadad&Tobago',\n",
    "       'Outlying-US(Guam-USVI-etc)':'Outlying-US(Guam-USVI-etc)',' Outlying-US(Guam-USVI-etc)':'Outlying-US(Guam-USVI-etc)',\n",
    "       'Yugoslavia':'Yugoslavia',' Yugoslavia':'Yugoslavia','Peru':'Peru',' Peru':'Peru','?':'?',' ?':'?',\n",
    "      'Hong':'Hong',' Hong':'Hong','Vietnam':'Vietnam',' Vietnam':'Vietnam','Nicaragua':'Nicaragua',\n",
    "      ' Nicaragua':'Nicaragua','Hungary':'Hungary',' Hungary':'Hungary','Hong':'Hong',' Hong':'Hong',\n",
    "      'Ireland':'Ireland',' Ireland':'ireland','Scotland':'Scotland',' Scotland':'Scotland',\n",
    "       'Holand-Netherlands':'Holand-Netherlands'}"
   ]
  },
  {
   "cell_type": "code",
   "execution_count": 191,
   "metadata": {},
   "outputs": [],
   "source": [
    "data['native-country']=data['native-country'].map(dict5)"
   ]
  },
  {
   "cell_type": "code",
   "execution_count": 192,
   "metadata": {},
   "outputs": [
    {
     "data": {
      "text/plain": [
       "array(['Bachelors', 'HS-grad', '11th', 'Masters', '9th', 'Some-college',\n",
       "       'Assoc-acdm', 'Assoc-voc', '7th-8th', 'Doctorate', 'Prof-school',\n",
       "       '5th-6th', '10th', '1st-4th', 'Preschool', '12th', ' 11th',\n",
       "       ' HS-grad', ' Assoc-acdm', ' Some-college', ' 10th',\n",
       "       ' Prof-school', ' 7th-8th', ' Bachelors', ' Masters', ' Doctorate',\n",
       "       ' 5th-6th', ' Assoc-voc', ' 9th', ' 12th', ' 1st-4th',\n",
       "       ' Preschool'], dtype=object)"
      ]
     },
     "execution_count": 192,
     "metadata": {},
     "output_type": "execute_result"
    }
   ],
   "source": [
    "data['education'].unique()"
   ]
  },
  {
   "cell_type": "code",
   "execution_count": 193,
   "metadata": {},
   "outputs": [],
   "source": [
    "dict6={'Bachelors':'Bachelors',' Bachelors':'Bachelors','HS-grad':'HS-grad',' HS-grad':'HS-grad','11th':'11th',\n",
    "      ' 11th':'11th','Masters':'Masters',' Masters':'Masters','9th':'9th',' 9th':'9th','10th':'10th',\n",
    "      ' 10th':'10th','Some-college':'Some-college',' Some-college':'Some-college','Assoc-acdm':'Assoc-acdm',\n",
    "      ' Assoc-acdm':'Assoc-acdm','7th-8th':'7th-8th',' 7th-8th':'7th-8th','Doctorate':'Doctorate',\n",
    "      ' Doctorate':'Doctorate','Assoc-voc':'Assoc-voc',' Assoc-voc':'Assoc-voc','Prof-school':'Prof-school',\n",
    "      ' Prof-school':'Prof-school','5th-6th':'5th-6th',' 5th-6th':'5th-6th','Preschool':'Preschool',\n",
    "      ' Preschool':'Preschool','12th':'12th',' 12th':'12th','1st-4th':'1st-4th',' 1st-4th':'1st-4th'}"
   ]
  },
  {
   "cell_type": "code",
   "execution_count": 194,
   "metadata": {},
   "outputs": [],
   "source": [
    "data['education']=data['education'].map(dict6)"
   ]
  },
  {
   "cell_type": "code",
   "execution_count": 195,
   "metadata": {},
   "outputs": [
    {
     "data": {
      "text/plain": [
       "array(['Adm-clerical', 'Exec-managerial', 'Handlers-cleaners',\n",
       "       'Prof-specialty', 'Other-service', 'Sales', 'Craft-repair',\n",
       "       'Transport-moving', 'Farming-fishing', 'Machine-op-inspct',\n",
       "       'Tech-support', nan, 'Protective-serv', 'Armed-Forces',\n",
       "       'Priv-house-serv', ' Machine-op-inspct', ' Farming-fishing',\n",
       "       ' Protective-serv', ' ?', ' Other-service', ' Prof-specialty',\n",
       "       ' Craft-repair', ' Adm-clerical', ' Exec-managerial',\n",
       "       ' Tech-support', ' Sales', ' Priv-house-serv', ' Transport-moving',\n",
       "       ' Handlers-cleaners', ' Armed-Forces'], dtype=object)"
      ]
     },
     "execution_count": 195,
     "metadata": {},
     "output_type": "execute_result"
    }
   ],
   "source": [
    "data['occupation'].unique()"
   ]
  },
  {
   "cell_type": "code",
   "execution_count": 196,
   "metadata": {},
   "outputs": [],
   "source": [
    "dict7={'Adm-clerical':'Adm-clerical',' Adm-clerical':'Adm-clerical','Exec-managerial':'Exec-managerial',\n",
    "       ' Exec-managerial':'Exec-managerial','Handlers-cleaners':'Handlers-cleaners',' Handlers-cleaners':'Handlers-cleaners',\n",
    "       'Prof-specialty':'Prof-specialty',' Prof-specialty':'Prof-specialty','Other-service':'Other-service',\n",
    "       ' Other-service':'Other-service','Sales':'Sales',' Sales':'Sales','Transport-moving':'Transport-moving',\n",
    "       ' Transport-moving':'Transport-moving','Farming-fishing':'Farming-fishing',' Farming-fishing':'Farming-fishing',\n",
    "       'Machine-op-inspct':'Machine-op-inspct',' Machine-op-inspct':'Machine-op-inspct','Tech-support':'Tech-support',\n",
    "      ' Tech-support':'Tech-support','Craft-repair':'Craft-repair',' Craft-repair':'Craft-repair',\n",
    "       'Protective-serv':'Protective-serv',' Protective-serv':'Protective-serv','Armed-Forces':'Armed-Forces',\n",
    "       ' Armed-Forces':'Armed-Forces','Priv-house-serv':'Priv-house-serv',' Priv-house-serv':'Priv-house-serv',' ?':'?'}"
   ]
  },
  {
   "cell_type": "code",
   "execution_count": 197,
   "metadata": {},
   "outputs": [],
   "source": [
    "data['occupation']=data['occupation'].map(dict7)"
   ]
  },
  {
   "cell_type": "code",
   "execution_count": 198,
   "metadata": {},
   "outputs": [],
   "source": [
    "train = data[:48842]\n",
    "test=data[48842:]"
   ]
  },
  {
   "cell_type": "code",
   "execution_count": 199,
   "metadata": {},
   "outputs": [],
   "source": [
    "test.reset_index(drop=True,inplace=True)"
   ]
  },
  {
   "cell_type": "code",
   "execution_count": 200,
   "metadata": {},
   "outputs": [],
   "source": [
    "train.dropna(inplace=True)\n",
    "test.dropna(inplace=True)"
   ]
  },
  {
   "cell_type": "markdown",
   "metadata": {},
   "source": [
    "## One-hot Encoding with categorical columns"
   ]
  },
  {
   "cell_type": "code",
   "execution_count": 201,
   "metadata": {},
   "outputs": [],
   "source": [
    "from sklearn.preprocessing import LabelEncoder"
   ]
  },
  {
   "cell_type": "code",
   "execution_count": 202,
   "metadata": {},
   "outputs": [],
   "source": [
    "categorical_cols = ['workclass', 'marital-status', 'relationship', 'sex','race',\n",
    "                    'native-country','education','occupation'] \n",
    "le = LabelEncoder()\n",
    "train[categorical_cols] = train[categorical_cols].apply(lambda col: le.fit_transform(col))"
   ]
  },
  {
   "cell_type": "code",
   "execution_count": 203,
   "metadata": {},
   "outputs": [],
   "source": [
    "categorical_cols = ['workclass', 'marital-status', 'relationship', 'sex','race',\n",
    "                    'native-country','education','occupation'] \n",
    "le = LabelEncoder()\n",
    "test[categorical_cols] = test[categorical_cols].apply(lambda col: le.fit_transform(col))"
   ]
  },
  {
   "cell_type": "code",
   "execution_count": 204,
   "metadata": {},
   "outputs": [],
   "source": [
    "for col in train.columns:\n",
    "    train[col] = train[col].apply(int)"
   ]
  },
  {
   "cell_type": "code",
   "execution_count": 205,
   "metadata": {},
   "outputs": [],
   "source": [
    "for col in test.columns:\n",
    "    test[col] = test[col].apply(int)"
   ]
  },
  {
   "cell_type": "code",
   "execution_count": 206,
   "metadata": {},
   "outputs": [],
   "source": [
    "corr=train.corr()"
   ]
  },
  {
   "cell_type": "code",
   "execution_count": 210,
   "metadata": {},
   "outputs": [
    {
     "data": {
      "image/png": "[encoded data removed]",
      "text/plain": [
       "<Figure size 1080x864 with 2 Axes>"
      ]
     },
     "metadata": {},
     "output_type": "display_data"
    }
   ],
   "source": [
    "plt.figure(figsize=(15,12))\n",
    "sns.heatmap(corr,annot=True,fmt='.2g',linewidths=0.5,cmap='viridis')\n",
    "plt.show()"
   ]
  },
  {
   "cell_type": "markdown",
   "metadata": {},
   "source": [
    "## Pearson-corelation "
   ]
  },
  {
   "cell_type": "code",
   "execution_count": 211,
   "metadata": {},
   "outputs": [],
   "source": [
    "pearson = corr[['class']].T.sort_values(by='class',ascending=False)"
   ]
  },
  {
   "cell_type": "code",
   "execution_count": 212,
   "metadata": {},
   "outputs": [
    {
     "data": {
      "image/png": "[encoded data removed]",
      "text/plain": [
       "<Figure size 1296x144 with 1 Axes>"
      ]
     },
     "metadata": {},
     "output_type": "display_data"
    }
   ],
   "source": [
    "plt.figure(figsize=(18,2))\n",
    "sns.heatmap(pearson,cmap='viridis',cbar=False,fmt='.3g',annot=True)\n",
    "plt.show()"
   ]
  },
  {
   "cell_type": "code",
   "execution_count": 213,
   "metadata": {},
   "outputs": [],
   "source": [
    "ytrain = train['class'].copy()\n",
    "ytest = test['class'].copy()"
   ]
  },
  {
   "cell_type": "code",
   "execution_count": 214,
   "metadata": {},
   "outputs": [],
   "source": [
    "del train['class'], test['class']"
   ]
  },
  {
   "cell_type": "code",
   "execution_count": 215,
   "metadata": {},
   "outputs": [],
   "source": [
    "xtrain = train.copy()\n",
    "xtest = test.copy()"
   ]
  },
  {
   "cell_type": "code",
   "execution_count": 216,
   "metadata": {},
   "outputs": [],
   "source": [
    "del train,test,data"
   ]
  },
  {
   "cell_type": "code",
   "execution_count": 217,
   "metadata": {},
   "outputs": [
    {
     "data": {
      "text/plain": [
       "((45222,), (16281,))"
      ]
     },
     "execution_count": 217,
     "metadata": {},
     "output_type": "execute_result"
    }
   ],
   "source": [
    "ytrain.shape,ytest.shape"
   ]
  },
  {
   "cell_type": "code",
   "execution_count": 218,
   "metadata": {},
   "outputs": [],
   "source": [
    "del xtrain['education-num'], xtest['education-num']"
   ]
  },
  {
   "cell_type": "code",
   "execution_count": 219,
   "metadata": {},
   "outputs": [],
   "source": [
    "for col in xtrain.columns:\n",
    "    xtrain[col] = xtrain[col].apply(lambda col : np.sqrt(col))"
   ]
  },
  {
   "cell_type": "code",
   "execution_count": 220,
   "metadata": {},
   "outputs": [],
   "source": [
    "for col in xtest.columns:\n",
    "    xtest[col] = xtest[col].apply(lambda col : np.sqrt(col))"
   ]
  },
  {
   "cell_type": "code",
   "execution_count": 221,
   "metadata": {},
   "outputs": [
    {
     "data": {
      "text/html": [
       "<div>\n",
       "<style scoped>\n",
       "    .dataframe tbody tr th:only-of-type {\n",
       "        vertical-align: middle;\n",
       "    }\n",
       "\n",
       "    .dataframe tbody tr th {\n",
       "        vertical-align: top;\n",
       "    }\n",
       "\n",
       "    .dataframe thead th {\n",
       "        text-align: right;\n",
       "    }\n",
       "</style>\n",
       "<table border=\"1\" class=\"dataframe\">\n",
       "  <thead>\n",
       "    <tr style=\"text-align: right;\">\n",
       "      <th></th>\n",
       "      <th>age</th>\n",
       "      <th>workclass</th>\n",
       "      <th>fnlwgt</th>\n",
       "      <th>education</th>\n",
       "      <th>marital-status</th>\n",
       "      <th>occupation</th>\n",
       "      <th>relationship</th>\n",
       "      <th>race</th>\n",
       "      <th>sex</th>\n",
       "      <th>capitalgain</th>\n",
       "      <th>capitalloss</th>\n",
       "      <th>hoursperweek</th>\n",
       "      <th>native-country</th>\n",
       "    </tr>\n",
       "  </thead>\n",
       "  <tbody>\n",
       "    <tr>\n",
       "      <th>0</th>\n",
       "      <td>5.000000</td>\n",
       "      <td>2.0</td>\n",
       "      <td>476.237336</td>\n",
       "      <td>1.000000</td>\n",
       "      <td>2.000000</td>\n",
       "      <td>2.645751</td>\n",
       "      <td>1.732051</td>\n",
       "      <td>1.414214</td>\n",
       "      <td>1.0</td>\n",
       "      <td>0.0</td>\n",
       "      <td>0.0</td>\n",
       "      <td>6.324555</td>\n",
       "      <td>6.082763</td>\n",
       "    </tr>\n",
       "    <tr>\n",
       "      <th>1</th>\n",
       "      <td>6.164414</td>\n",
       "      <td>2.0</td>\n",
       "      <td>299.689840</td>\n",
       "      <td>3.316625</td>\n",
       "      <td>1.414214</td>\n",
       "      <td>2.236068</td>\n",
       "      <td>0.000000</td>\n",
       "      <td>2.000000</td>\n",
       "      <td>1.0</td>\n",
       "      <td>0.0</td>\n",
       "      <td>0.0</td>\n",
       "      <td>7.071068</td>\n",
       "      <td>6.082763</td>\n",
       "    </tr>\n",
       "  </tbody>\n",
       "</table>\n",
       "</div>"
      ],
      "text/plain": [
       "        age  workclass      fnlwgt  education  marital-status  occupation  \\\n",
       "0  5.000000        2.0  476.237336   1.000000        2.000000    2.645751   \n",
       "1  6.164414        2.0  299.689840   3.316625        1.414214    2.236068   \n",
       "\n",
       "   relationship      race  sex  capitalgain  capitalloss  hoursperweek  \\\n",
       "0      1.732051  1.414214  1.0          0.0          0.0      6.324555   \n",
       "1      0.000000  2.000000  1.0          0.0          0.0      7.071068   \n",
       "\n",
       "   native-country  \n",
       "0        6.082763  \n",
       "1        6.082763  "
      ]
     },
     "execution_count": 221,
     "metadata": {},
     "output_type": "execute_result"
    }
   ],
   "source": [
    "xtest.head(2)"
   ]
  },
  {
   "cell_type": "code",
   "execution_count": 222,
   "metadata": {},
   "outputs": [
    {
     "data": {
      "text/plain": [
       "((45222, 13), (16281, 13))"
      ]
     },
     "execution_count": 222,
     "metadata": {},
     "output_type": "execute_result"
    }
   ],
   "source": [
    "xtrain.shape,xtest.shape,"
   ]
  },
  {
   "cell_type": "code",
   "execution_count": 223,
   "metadata": {},
   "outputs": [
    {
     "data": {
      "text/plain": [
       "((45222, 13), (16281, 13), (45222,), (16281,))"
      ]
     },
     "execution_count": 223,
     "metadata": {},
     "output_type": "execute_result"
    }
   ],
   "source": [
    "xtrain.shape,xtest.shape,ytrain.shape,ytest.shape"
   ]
  },
  {
   "cell_type": "code",
   "execution_count": 224,
   "metadata": {},
   "outputs": [],
   "source": [
    "X = pd.concat([xtrain,xtest]).copy()\n",
    "y = pd.concat([ytrain,ytest]).copy()"
   ]
  },
  {
   "cell_type": "code",
   "execution_count": 225,
   "metadata": {},
   "outputs": [
    {
     "data": {
      "text/plain": [
       "(61503, 13)"
      ]
     },
     "execution_count": 225,
     "metadata": {},
     "output_type": "execute_result"
    }
   ],
   "source": [
    "X.shape"
   ]
  },
  {
   "cell_type": "code",
   "execution_count": 226,
   "metadata": {},
   "outputs": [
    {
     "data": {
      "text/plain": [
       "(61503, 13)"
      ]
     },
     "execution_count": 226,
     "metadata": {},
     "output_type": "execute_result"
    }
   ],
   "source": [
    "X = np.array(X)\n",
    "X.shape"
   ]
  },
  {
   "cell_type": "code",
   "execution_count": 227,
   "metadata": {},
   "outputs": [
    {
     "data": {
      "text/plain": [
       "(61503,)"
      ]
     },
     "execution_count": 227,
     "metadata": {},
     "output_type": "execute_result"
    }
   ],
   "source": [
    "y = np.array(y)\n",
    "y.shape"
   ]
  },
  {
   "cell_type": "code",
   "execution_count": 228,
   "metadata": {},
   "outputs": [
    {
     "data": {
      "text/plain": [
       "(16281, 13)"
      ]
     },
     "execution_count": 228,
     "metadata": {},
     "output_type": "execute_result"
    }
   ],
   "source": [
    "xtest = np.array(xtest)\n",
    "xtest.shape"
   ]
  },
  {
   "cell_type": "code",
   "execution_count": 229,
   "metadata": {},
   "outputs": [
    {
     "data": {
      "text/plain": [
       "(16281,)"
      ]
     },
     "execution_count": 229,
     "metadata": {},
     "output_type": "execute_result"
    }
   ],
   "source": [
    "ytest = np.array(ytest)\n",
    "ytest.shape"
   ]
  },
  {
   "cell_type": "code",
   "execution_count": 230,
   "metadata": {},
   "outputs": [
    {
     "data": {
      "text/plain": [
       "((45222,), (45222, 13))"
      ]
     },
     "execution_count": 230,
     "metadata": {},
     "output_type": "execute_result"
    }
   ],
   "source": [
    "ytrain.shape,xtrain.shape"
   ]
  },
  {
   "cell_type": "markdown",
   "metadata": {},
   "source": [
    "## Xgboost Classifier"
   ]
  },
  {
   "cell_type": "code",
   "execution_count": 71,
   "metadata": {},
   "outputs": [],
   "source": [
    "xgc = XGBClassifier(objective='binary:logitraw')"
   ]
  },
  {
   "cell_type": "code",
   "execution_count": 72,
   "metadata": {},
   "outputs": [],
   "source": [
    "def Train_model(clf,X,y,rs=42):\n",
    "    x_train,x_test,y_train,y_test = train_test_split(X,y,test_size=0.20, random_state=rs,stratify=y)\n",
    "    clf.fit(x_train,y_train)\n",
    "    y_pred = clf.predict(x_test)\n",
    "    score = accuracy_score(y_test,y_pred)\n",
    "    print(f'random state:{rs} & Accuracy: {round((score*100),2)} %')"
   ]
  },
  {
   "cell_type": "code",
   "execution_count": 73,
   "metadata": {},
   "outputs": [
    {
     "name": "stdout",
     "output_type": "stream",
     "text": [
      "random state:0 & Accuracy: 85.34 %\n",
      "random state:1 & Accuracy: 85.16 %\n",
      "random state:2 & Accuracy: 85.33 %\n",
      "random state:3 & Accuracy: 85.3 %\n",
      "random state:4 & Accuracy: 85.49 %\n",
      "random state:5 & Accuracy: 85.04 %\n",
      "random state:6 & Accuracy: 85.39 %\n",
      "random state:7 & Accuracy: 85.33 %\n",
      "random state:8 & Accuracy: 85.73 %\n",
      "random state:9 & Accuracy: 85.53 %\n",
      "random state:10 & Accuracy: 85.59 %\n",
      "random state:11 & Accuracy: 85.43 %\n",
      "random state:12 & Accuracy: 85.34 %\n",
      "random state:13 & Accuracy: 85.87 %\n",
      "random state:14 & Accuracy: 85.16 %\n",
      "random state:15 & Accuracy: 85.66 %\n",
      "random state:16 & Accuracy: 85.25 %\n",
      "random state:17 & Accuracy: 85.16 %\n",
      "random state:18 & Accuracy: 85.27 %\n",
      "random state:19 & Accuracy: 84.96 %\n"
     ]
    }
   ],
   "source": [
    "for i in range(20):\n",
    "    Train_model(xgc,X,y,rs =i)"
   ]
  },
  {
   "cell_type": "code",
   "execution_count": 74,
   "metadata": {},
   "outputs": [
    {
     "name": "stdout",
     "output_type": "stream",
     "text": [
      "random state:13 & Accuracy: 85.87 %\n"
     ]
    }
   ],
   "source": [
    " Train_model(xgc,X,y,rs =13)"
   ]
  },
  {
   "cell_type": "markdown",
   "metadata": {},
   "source": [
    "## Random_Search CV"
   ]
  },
  {
   "cell_type": "code",
   "execution_count": 77,
   "metadata": {},
   "outputs": [],
   "source": [
    "random_grid = {\n",
    "    'booster': ['gbtree', 'dart'],\n",
    "    'max_depth' : range(2,32,2),\n",
    "    'max_delta_step' : range(2,20,2),\n",
    "    'n_estimators': range(10,100,20),\n",
    "    'learning_rate' : [0.1,0.01,0.001],\n",
    "    'random_state':[15]}"
   ]
  },
  {
   "cell_type": "code",
   "execution_count": 78,
   "metadata": {},
   "outputs": [],
   "source": [
    "random_search = RandomizedSearchCV(estimator = xgc,param_distributions = random_grid, cv = 5,n_jobs = -1)"
   ]
  },
  {
   "cell_type": "code",
   "execution_count": 79,
   "metadata": {},
   "outputs": [
    {
     "name": "stdout",
     "output_type": "stream",
     "text": [
      "{'random_state': 15, 'n_estimators': 90, 'max_depth': 26, 'max_delta_step': 2, 'learning_rate': 0.1, 'booster': 'dart'}\n"
     ]
    }
   ],
   "source": [
    "random_search.fit(X,y)\n",
    "best_parameters = random_search.best_params_\n",
    "print(best_parameters)"
   ]
  },
  {
   "cell_type": "code",
   "execution_count": 80,
   "metadata": {},
   "outputs": [],
   "source": [
    "xgc = XGBClassifier(objective='binary:logitraw',booster = 'dart', max_depth = 26, max_delta_step = 2, \n",
    "                             n_estimators = 90, learning_rate = 0.1,random_state = 15)"
   ]
  },
  {
   "cell_type": "markdown",
   "metadata": {},
   "source": [
    "## K-FOLD"
   ]
  },
  {
   "cell_type": "code",
   "execution_count": 81,
   "metadata": {},
   "outputs": [],
   "source": [
    "def CV_train(clf,x,y,n=5):\n",
    "    kf = KFold(n_splits=n) \n",
    "    kf.get_n_splits(x) \n",
    "\n",
    "    accu = []\n",
    "    for train_index, test_index in kf.split(x):\n",
    "        xtrain, xtest = x[train_index], x[test_index]\n",
    "        ytrain,ytest = y[train_index],y[test_index]\n",
    "        clf.fit(xtrain,ytrain)\n",
    "        pred = clf.predict(xtest)\n",
    "        acc = accuracy_score(pred,ytest)\n",
    "        accu.append(acc)\n",
    "    prediction = clf.predict(x)\n",
    "    ac = accuracy_score(prediction,y)\n",
    "    print(f\"| CV: {n} | Mean Accuracy:{round(np.mean(accu)*100,2)}% | Over all Accuracy:{round(ac*100,2)}% |\")\n",
    "    return clf"
   ]
  },
  {
   "cell_type": "code",
   "execution_count": 82,
   "metadata": {},
   "outputs": [
    {
     "name": "stdout",
     "output_type": "stream",
     "text": [
      "| CV: 4 | Mean Accuracy:84.04% | Over all Accuracy:93.66% |\n",
      "| CV: 5 | Mean Accuracy:84.62% | Over all Accuracy:94.71% |\n",
      "| CV: 6 | Mean Accuracy:84.62% | Over all Accuracy:95.55% |\n",
      "| CV: 7 | Mean Accuracy:84.66% | Over all Accuracy:95.63% |\n",
      "| CV: 8 | Mean Accuracy:84.58% | Over all Accuracy:95.91% |\n",
      "| CV: 9 | Mean Accuracy:84.74% | Over all Accuracy:96.14% |\n",
      "| CV: 10 | Mean Accuracy:84.73% | Over all Accuracy:96.21% |\n",
      "| CV: 11 | Mean Accuracy:84.77% | Over all Accuracy:96.37% |\n",
      "| CV: 12 | Mean Accuracy:84.77% | Over all Accuracy:96.37% |\n",
      "| CV: 13 | Mean Accuracy:84.77% | Over all Accuracy:96.39% |\n",
      "| CV: 14 | Mean Accuracy:84.77% | Over all Accuracy:96.6% |\n",
      "| CV: 15 | Mean Accuracy:84.78% | Over all Accuracy:96.7% |\n"
     ]
    }
   ],
   "source": [
    "for i in range(4,16):\n",
    "    model = CV_train(xgc,X,y,n=i)"
   ]
  },
  {
   "cell_type": "code",
   "execution_count": 82,
   "metadata": {},
   "outputs": [
    {
     "name": "stdout",
     "output_type": "stream",
     "text": [
      "| CV: 13 | Mean Accuracy:84.77% | Over all Accuracy:96.39% |\n"
     ]
    }
   ],
   "source": [
    "model = CV_train(xgc,X,y,n=13)"
   ]
  },
  {
   "cell_type": "code",
   "execution_count": 83,
   "metadata": {},
   "outputs": [],
   "source": [
    "y_pred = model.predict(xtest)"
   ]
  },
  {
   "cell_type": "code",
   "execution_count": 84,
   "metadata": {},
   "outputs": [],
   "source": [
    "pred = model.predict(xtest)"
   ]
  },
  {
   "cell_type": "code",
   "execution_count": 85,
   "metadata": {},
   "outputs": [
    {
     "name": "stdout",
     "output_type": "stream",
     "text": [
      "Test Accuracy from model->'XGB' with CV: 95.57 %\n"
     ]
    }
   ],
   "source": [
    "acu = accuracy_score(y_pred ,ytest)\n",
    "print(\"Test Accuracy from model->'XGB' with CV:\",round(acu*100,2),'%')"
   ]
  },
  {
   "cell_type": "markdown",
   "metadata": {},
   "source": [
    "### Loading the model.."
   ]
  },
  {
   "cell_type": "code",
   "execution_count": 3,
   "metadata": {},
   "outputs": [],
   "source": [
    "import pickle"
   ]
  },
  {
   "cell_type": "code",
   "execution_count": 87,
   "metadata": {},
   "outputs": [],
   "source": [
    "pickle.dump(model,open('model.pickle','wb'))"
   ]
  },
  {
   "cell_type": "code",
   "execution_count": 5,
   "metadata": {},
   "outputs": [],
   "source": [
    "model=pickle.load(open('model.pickle','rb'))"
   ]
  },
  {
   "cell_type": "code",
   "execution_count": 89,
   "metadata": {},
   "outputs": [
    {
     "data": {
      "image/png": "[encoded data removed]",
      "text/plain": [
       "<Figure size 432x288 with 1 Axes>"
      ]
     },
     "metadata": {},
     "output_type": "display_data"
    }
   ],
   "source": [
    "confus = confusion_matrix(y_pred,ytest)\n",
    "plt.rcParams['font.size'] = 24\n",
    "sns.heatmap(confus,annot=True,cbar=False,cmap='viridis',linewidths=0.5,fmt='.6g')\n",
    "plt.title('Confusion Matrix')\n",
    "plt.show()"
   ]
  },
  {
   "cell_type": "code",
   "execution_count": 90,
   "metadata": {},
   "outputs": [
    {
     "data": {
      "text/plain": [
       "12274"
      ]
     },
     "execution_count": 90,
     "metadata": {},
     "output_type": "execute_result"
    }
   ],
   "source": [
    "TP = confus[0][0]\n",
    "TP"
   ]
  },
  {
   "cell_type": "code",
   "execution_count": 91,
   "metadata": {},
   "outputs": [
    {
     "data": {
      "text/plain": [
       "3285"
      ]
     },
     "execution_count": 91,
     "metadata": {},
     "output_type": "execute_result"
    }
   ],
   "source": [
    "TN = confus[1][1]\n",
    "TN"
   ]
  },
  {
   "cell_type": "code",
   "execution_count": 92,
   "metadata": {},
   "outputs": [
    {
     "data": {
      "text/plain": [
       "561"
      ]
     },
     "execution_count": 92,
     "metadata": {},
     "output_type": "execute_result"
    }
   ],
   "source": [
    "FP = confus[0][1]\n",
    "FP"
   ]
  },
  {
   "cell_type": "code",
   "execution_count": 93,
   "metadata": {},
   "outputs": [
    {
     "data": {
      "text/plain": [
       "161"
      ]
     },
     "execution_count": 93,
     "metadata": {},
     "output_type": "execute_result"
    }
   ],
   "source": [
    "FN = confus[1][0]\n",
    "FN"
   ]
  },
  {
   "cell_type": "code",
   "execution_count": 94,
   "metadata": {},
   "outputs": [
    {
     "name": "stdout",
     "output_type": "stream",
     "text": [
      "ACCURACY: 95.57 %\n"
     ]
    }
   ],
   "source": [
    "accuracy = (TP+TN)/(TP+TN+FN+FP)\n",
    "print(\"ACCURACY:\",round(accuracy*100,2),'%')"
   ]
  },
  {
   "cell_type": "code",
   "execution_count": 95,
   "metadata": {},
   "outputs": [
    {
     "name": "stdout",
     "output_type": "stream",
     "text": [
      "PRECISION IS: 0.96\n"
     ]
    }
   ],
   "source": [
    "precision = TP/(TP+FP)\n",
    "print('PRECISION IS:',round(precision,2))"
   ]
  },
  {
   "cell_type": "code",
   "execution_count": 96,
   "metadata": {},
   "outputs": [
    {
     "name": "stdout",
     "output_type": "stream",
     "text": [
      "RECALL IS: 0.99\n"
     ]
    }
   ],
   "source": [
    "recall = TP/(TP+FN)\n",
    "print('RECALL IS:',round(recall,2))"
   ]
  },
  {
   "cell_type": "code",
   "execution_count": 97,
   "metadata": {},
   "outputs": [
    {
     "name": "stdout",
     "output_type": "stream",
     "text": [
      "F1_Score is: 0.97\n"
     ]
    }
   ],
   "source": [
    "F1_Score = 2*(recall * precision) / (recall + precision)\n",
    "print(\"F1_Score is:\",round(F1_Score,2))"
   ]
  },
  {
   "cell_type": "code",
   "execution_count": 98,
   "metadata": {},
   "outputs": [
    {
     "name": "stdout",
     "output_type": "stream",
     "text": [
      "Area Under Curve: 0.92\n"
     ]
    }
   ],
   "source": [
    "auc = roc_auc_score(ytest, y_pred)\n",
    "print(\"Area Under Curve:\",round(auc,2))"
   ]
  },
  {
   "cell_type": "code",
   "execution_count": 99,
   "metadata": {},
   "outputs": [],
   "source": [
    "fpr, tpr, thresholds = roc_curve(ytest, y_pred)"
   ]
  },
  {
   "cell_type": "markdown",
   "metadata": {},
   "source": [
    "## Auc-Roc Curve "
   ]
  },
  {
   "cell_type": "code",
   "execution_count": 100,
   "metadata": {},
   "outputs": [
    {
     "data": {
      "image/png": "[encoded data removed]",
      "text/plain": [
       "<Figure size 432x288 with 1 Axes>"
      ]
     },
     "metadata": {},
     "output_type": "display_data"
    }
   ],
   "source": [
    "plt.plot(fpr, tpr, color='orange', label='ROC')\n",
    "plt.plot([0, 1], [0, 1], color='darkblue', linestyle='--',label='ROC curve (area = %0.1f)' % auc)\n",
    "plt.xlabel('False Positive Rate')\n",
    "plt.ylabel('True Positive Rate')\n",
    "plt.title('Receiver Operating Characteristic (ROC) Curve')\n",
    "plt.show()"
   ]
  },
  {
   "cell_type": "markdown",
   "metadata": {},
   "source": [
    "### prediction for any input values"
   ]
  },
  {
   "cell_type": "code",
   "execution_count": 101,
   "metadata": {
    "scrolled": true
   },
   "outputs": [
    {
     "data": {
      "text/plain": [
       "{0: 'Less or Equal to Rs.50k', 1: 'Grater Than Rs.50k'}"
      ]
     },
     "execution_count": 101,
     "metadata": {},
     "output_type": "execute_result"
    }
   ],
   "source": [
    "dic = {0:'Less or Equal to Rs.50k',1:'Grater Than Rs.50k'}\n",
    "dic"
   ]
  },
  {
   "cell_type": "code",
   "execution_count": 102,
   "metadata": {},
   "outputs": [
    {
     "data": {
      "text/html": [
       "<div>\n",
       "<style scoped>\n",
       "    .dataframe tbody tr th:only-of-type {\n",
       "        vertical-align: middle;\n",
       "    }\n",
       "\n",
       "    .dataframe tbody tr th {\n",
       "        vertical-align: top;\n",
       "    }\n",
       "\n",
       "    .dataframe thead th {\n",
       "        text-align: right;\n",
       "    }\n",
       "</style>\n",
       "<table border=\"1\" class=\"dataframe\">\n",
       "  <thead>\n",
       "    <tr style=\"text-align: right;\">\n",
       "      <th></th>\n",
       "      <th>age</th>\n",
       "      <th>workclass</th>\n",
       "      <th>fnlwgt</th>\n",
       "      <th>education</th>\n",
       "      <th>marital-status</th>\n",
       "      <th>occupation</th>\n",
       "      <th>relationship</th>\n",
       "      <th>race</th>\n",
       "      <th>sex</th>\n",
       "      <th>capitalgain</th>\n",
       "      <th>capitalloss</th>\n",
       "      <th>hoursperweek</th>\n",
       "      <th>native-country</th>\n",
       "    </tr>\n",
       "  </thead>\n",
       "  <tbody>\n",
       "    <tr>\n",
       "      <th>48840</th>\n",
       "      <td>1.414214</td>\n",
       "      <td>1.414214</td>\n",
       "      <td>289.639431</td>\n",
       "      <td>3.0</td>\n",
       "      <td>0.000000</td>\n",
       "      <td>0.000000</td>\n",
       "      <td>1.732051</td>\n",
       "      <td>1.0</td>\n",
       "      <td>1.0</td>\n",
       "      <td>1.414214</td>\n",
       "      <td>0.0</td>\n",
       "      <td>1.414214</td>\n",
       "      <td>6.164414</td>\n",
       "    </tr>\n",
       "    <tr>\n",
       "      <th>48841</th>\n",
       "      <td>1.000000</td>\n",
       "      <td>1.732051</td>\n",
       "      <td>426.788004</td>\n",
       "      <td>3.0</td>\n",
       "      <td>1.414214</td>\n",
       "      <td>1.732051</td>\n",
       "      <td>0.000000</td>\n",
       "      <td>2.0</td>\n",
       "      <td>1.0</td>\n",
       "      <td>0.000000</td>\n",
       "      <td>0.0</td>\n",
       "      <td>1.732051</td>\n",
       "      <td>6.164414</td>\n",
       "    </tr>\n",
       "  </tbody>\n",
       "</table>\n",
       "</div>"
      ],
      "text/plain": [
       "            age  workclass      fnlwgt  education  marital-status  occupation  \\\n",
       "48840  1.414214   1.414214  289.639431        3.0        0.000000    0.000000   \n",
       "48841  1.000000   1.732051  426.788004        3.0        1.414214    1.732051   \n",
       "\n",
       "       relationship  race  sex  capitalgain  capitalloss  hoursperweek  \\\n",
       "48840      1.732051   1.0  1.0     1.414214          0.0      1.414214   \n",
       "48841      0.000000   2.0  1.0     0.000000          0.0      1.732051   \n",
       "\n",
       "       native-country  \n",
       "48840        6.164414  \n",
       "48841        6.164414  "
      ]
     },
     "execution_count": 102,
     "metadata": {},
     "output_type": "execute_result"
    }
   ],
   "source": [
    "xtrain.tail(2)"
   ]
  },
  {
   "cell_type": "markdown",
   "metadata": {},
   "source": [
    "**assign any values to the following parameters** "
   ]
  },
  {
   "cell_type": "code",
   "execution_count": 248,
   "metadata": {},
   "outputs": [],
   "source": [
    "age = 1.414214\n",
    "workclass = 1.732051\n",
    "fnlwgt = 289.639431\n",
    "education = 8\n",
    "marital_status = 4\n",
    "occupation = 5\n",
    "relationship = 3\n",
    "race = 1\n",
    "sex = 1\n",
    "capitalgain = 0\n",
    "capitalloss = 0\n",
    "hoursperweek = 3 \n",
    "native_country = 6.164414\n",
    "\n",
    "input_data =[age,workclass,fnlwgt,education,marital_status,occupation,relationship,\n",
    "             race,sex,capitalgain,capitalloss,hoursperweek,native_country]"
   ]
  },
  {
   "cell_type": "markdown",
   "metadata": {},
   "source": [
    "**Prediction**"
   ]
  },
  {
   "cell_type": "code",
   "execution_count": 253,
   "metadata": {},
   "outputs": [],
   "source": [
    "def prediction(input_data):\n",
    "    inp = np.array(input_data)\n",
    "    inp=inp.reshape(-1,13)\n",
    "    pred = model.predict(inp)[0]\n",
    "    return 'The Income Range is: '+str(dic[pred])\n",
    "    "
   ]
  },
  {
   "cell_type": "code",
   "execution_count": 254,
   "metadata": {},
   "outputs": [
    {
     "data": {
      "text/plain": [
       "'The Income Range is: Less or Equal to Rs.50k'"
      ]
     },
     "execution_count": 254,
     "metadata": {},
     "output_type": "execute_result"
    }
   ],
   "source": [
    "prediction(input_data)"
   ]
  },
  {
   "cell_type": "markdown",
   "metadata": {},
   "source": [
    "**_______________Thanks____**"
   ]
  }
 ],
 "metadata": {
  "kernelspec": {
   "display_name": "Python 3",
   "language": "python",
   "name": "python3"
  },
  "language_info": {
   "codemirror_mode": {
    "name": "ipython",
    "version": 3
   },
   "file_extension": ".py",
   "mimetype": "text/x-python",
   "name": "python",
   "nbconvert_exporter": "python",
   "pygments_lexer": "ipython3",
   "version": "3.8.5"
  }
 },
 "nbformat": 4,
 "nbformat_minor": 4
}
